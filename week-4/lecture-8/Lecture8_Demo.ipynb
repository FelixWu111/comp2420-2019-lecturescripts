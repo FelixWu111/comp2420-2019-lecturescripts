{
 "cells": [
  {
   "cell_type": "markdown",
   "metadata": {},
   "source": [
    " <h1 align='center'> COMP2420/COMP6420 - Introduction to Data Management, Analysis and Security</h1>\n",
    "\n",
    "<h2 align='center'>Lecture 8 - ML and Plotting</h2>"
   ]
  },
  {
   "cell_type": "markdown",
   "metadata": {},
   "source": [
    "We will be looking at the arrests dataset originally found in R. This is a sample set of arrests from the US for Marijuana posession. We wish to explore the data, and gain some insights into the arrested people."
   ]
  },
  {
   "cell_type": "code",
   "execution_count": 1,
   "metadata": {},
   "outputs": [],
   "source": [
    "# Imports\n",
    "import pandas as pd\n",
    "import numpy as np\n",
    "import matplotlib.pyplot as plt\n",
    "%matplotlib inline\n",
    "from mpl_toolkits.axes_grid1 import make_axes_locatable\n",
    "import sklearn as skl\n",
    "from sklearn.linear_model import LinearRegression\n",
    "from sklearn.model_selection import train_test_split, cross_val_score\n",
    "from sklearn.metrics import balanced_accuracy_score, mean_squared_error\n",
    "from math import sqrt\n",
    "import seaborn as sns\n",
    "plt.style.use('seaborn')"
   ]
  },
  {
   "cell_type": "code",
   "execution_count": 2,
   "metadata": {},
   "outputs": [
    {
     "name": "stdout",
     "output_type": "stream",
     "text": [
      "Column Names:  ['released' 'year' 'age' 'sex' 'employed' 'citizen' 'checks']\n"
     ]
    },
    {
     "data": {
      "text/html": [
       "<div>\n",
       "<style scoped>\n",
       "    .dataframe tbody tr th:only-of-type {\n",
       "        vertical-align: middle;\n",
       "    }\n",
       "\n",
       "    .dataframe tbody tr th {\n",
       "        vertical-align: top;\n",
       "    }\n",
       "\n",
       "    .dataframe thead th {\n",
       "        text-align: right;\n",
       "    }\n",
       "</style>\n",
       "<table border=\"1\" class=\"dataframe\">\n",
       "  <thead>\n",
       "    <tr style=\"text-align: right;\">\n",
       "      <th></th>\n",
       "      <th>released</th>\n",
       "      <th>year</th>\n",
       "      <th>age</th>\n",
       "      <th>sex</th>\n",
       "      <th>employed</th>\n",
       "      <th>citizen</th>\n",
       "      <th>checks</th>\n",
       "    </tr>\n",
       "  </thead>\n",
       "  <tbody>\n",
       "    <tr>\n",
       "      <th>1</th>\n",
       "      <td>Yes</td>\n",
       "      <td>2002</td>\n",
       "      <td>21</td>\n",
       "      <td>Male</td>\n",
       "      <td>Yes</td>\n",
       "      <td>Yes</td>\n",
       "      <td>3</td>\n",
       "    </tr>\n",
       "    <tr>\n",
       "      <th>2</th>\n",
       "      <td>No</td>\n",
       "      <td>1999</td>\n",
       "      <td>17</td>\n",
       "      <td>Male</td>\n",
       "      <td>Yes</td>\n",
       "      <td>Yes</td>\n",
       "      <td>3</td>\n",
       "    </tr>\n",
       "    <tr>\n",
       "      <th>3</th>\n",
       "      <td>Yes</td>\n",
       "      <td>2000</td>\n",
       "      <td>24</td>\n",
       "      <td>Male</td>\n",
       "      <td>Yes</td>\n",
       "      <td>Yes</td>\n",
       "      <td>3</td>\n",
       "    </tr>\n",
       "    <tr>\n",
       "      <th>4</th>\n",
       "      <td>No</td>\n",
       "      <td>2000</td>\n",
       "      <td>46</td>\n",
       "      <td>Male</td>\n",
       "      <td>Yes</td>\n",
       "      <td>Yes</td>\n",
       "      <td>1</td>\n",
       "    </tr>\n",
       "    <tr>\n",
       "      <th>5</th>\n",
       "      <td>Yes</td>\n",
       "      <td>1999</td>\n",
       "      <td>27</td>\n",
       "      <td>Female</td>\n",
       "      <td>Yes</td>\n",
       "      <td>Yes</td>\n",
       "      <td>1</td>\n",
       "    </tr>\n",
       "  </tbody>\n",
       "</table>\n",
       "</div>"
      ],
      "text/plain": [
       "  released  year  age     sex employed citizen  checks\n",
       "1      Yes  2002   21    Male      Yes     Yes       3\n",
       "2       No  1999   17    Male      Yes     Yes       3\n",
       "3      Yes  2000   24    Male      Yes     Yes       3\n",
       "4       No  2000   46    Male      Yes     Yes       1\n",
       "5      Yes  1999   27  Female      Yes     Yes       1"
      ]
     },
     "execution_count": 2,
     "metadata": {},
     "output_type": "execute_result"
    }
   ],
   "source": [
    "# Data read in\n",
    "data = pd.read_csv('data/parrests.csv', index_col=0)\n",
    "print(\"Column Names: \", data.columns.values)\n",
    "data.head()"
   ]
  },
  {
   "cell_type": "markdown",
   "metadata": {},
   "source": [
    "<h2 align='center'>Data - How do we show it?</h2>"
   ]
  },
  {
   "cell_type": "markdown",
   "metadata": {},
   "source": [
    "### 1. Distribution of Gender"
   ]
  },
  {
   "cell_type": "code",
   "execution_count": 3,
   "metadata": {},
   "outputs": [
    {
     "name": "stdout",
     "output_type": "stream",
     "text": [
      "{'Male': 4783, 'Female': 443}\n"
     ]
    }
   ],
   "source": [
    "# Distribution of gender - male vs female\n",
    "mf_Values = {}\n",
    "for x in (\"Male\", \"Female\"):\n",
    "    mf_Values[x] = len(data[data['sex'] == x])\n",
    "\n",
    "print(mf_Values)"
   ]
  },
  {
   "cell_type": "markdown",
   "metadata": {},
   "source": [
    "#### We can see that significantly more males are arrested than females, but how do we show this in a visually appealing manner?"
   ]
  },
  {
   "cell_type": "code",
   "execution_count": 4,
   "metadata": {},
   "outputs": [
    {
     "data": {
      "text/plain": [
       "Text(0.5, 0, 'Number of')"
      ]
     },
     "execution_count": 4,
     "metadata": {},
     "output_type": "execute_result"
    },
    {
     "data": {
      "image/png": "[encoded data removed]",
      "text/plain": [
       "<Figure size 1728x1152 with 3 Axes>"
      ]
     },
     "metadata": {
      "needs_background": "light"
     },
     "output_type": "display_data"
    }
   ],
   "source": [
    "# Bad Plots\n",
    "fig = plt.figure(figsize=(24,16))\n",
    "# Attempt 1: Scatter Plot\n",
    "ax1 = fig.add_subplot(231)\n",
    "ax1.scatter(mf_Values.keys(), mf_Values.values())\n",
    "ax1.set_title('Males to Females - Scatterplot', fontsize=22)\n",
    "ax1.set_ylabel(\"Number of\",fontsize=15)\n",
    "ax1.set_xlabel(\"Gender\",fontsize=15)\n",
    "\n",
    "# Attempt 2: Box Plot\n",
    "ax2 = fig.add_subplot(232)\n",
    "ax2.boxplot([[mf_Values['Male']], [mf_Values['Female']]], labels=['Male', 'Female'])\n",
    "ax2.set_title('Males to Females - Boxplot', fontsize=22)\n",
    "ax2.set_ylabel(\"Number of\",fontsize=15)\n",
    "ax2.set_xlabel(\"Gender\",fontsize=15)\n",
    "\n",
    "# Attempt 3: Line Plot\n",
    "ax3 = fig.add_subplot(233)\n",
    "ax3.plot(mf_Values.keys(), mf_Values.values())    \n",
    "ax3.set_title('Males to Females - Line plot', fontsize=22)\n",
    "ax3.set_ylabel(\"Gender\",fontsize=15)\n",
    "ax3.set_xlabel(\"Number of\",fontsize=15)"
   ]
  },
  {
   "cell_type": "markdown",
   "metadata": {},
   "source": [
    "#### Yay? Nay?\n",
    "\n",
    "Lets have another go."
   ]
  },
  {
   "cell_type": "code",
   "execution_count": 5,
   "metadata": {},
   "outputs": [
    {
     "data": {
      "text/plain": [
       "Text(0.5, 0, 'Gender')"
      ]
     },
     "execution_count": 5,
     "metadata": {},
     "output_type": "execute_result"
    },
    {
     "data": {
      "image/png": "[encoded data removed]",
      "text/plain": [
       "<Figure size 1728x1152 with 2 Axes>"
      ]
     },
     "metadata": {
      "needs_background": "light"
     },
     "output_type": "display_data"
    }
   ],
   "source": [
    "# Goodish Plots\n",
    "fig2 = plt.figure(figsize=(24,16))\n",
    "\n",
    "# Attempt 1: Pie Chart\n",
    "ax4 = fig2.add_subplot(231)\n",
    "ax4.pie(mf_Values.values(), labels=mf_Values.keys(), autopct='%1.1f%%', startangle=45)\n",
    "ax4.set_title('Males to Females - Pie Chart', fontsize=20)\n",
    "ax4.legend()\n",
    "\n",
    "# Attempt 2: Bar Chart\n",
    "ax5 = fig2.add_subplot(232)\n",
    "ax5.bar(mf_Values.keys(), mf_Values.values())\n",
    "ax5.set_title('Males to Females - Bar Chart', fontsize=20)\n",
    "ax5.set_ylabel(\"Number of\",fontsize=15)\n",
    "ax5.set_xlabel(\"Gender\",fontsize=15)"
   ]
  },
  {
   "cell_type": "markdown",
   "metadata": {},
   "source": [
    "#### Much better !"
   ]
  },
  {
   "cell_type": "markdown",
   "metadata": {},
   "source": [
    "### 2. Distribution of Age in Gender"
   ]
  },
  {
   "cell_type": "code",
   "execution_count": 6,
   "metadata": {},
   "outputs": [
    {
     "data": {
      "text/html": [
       "<div>\n",
       "<style scoped>\n",
       "    .dataframe tbody tr th:only-of-type {\n",
       "        vertical-align: middle;\n",
       "    }\n",
       "\n",
       "    .dataframe tbody tr th {\n",
       "        vertical-align: top;\n",
       "    }\n",
       "\n",
       "    .dataframe thead th {\n",
       "        text-align: right;\n",
       "    }\n",
       "</style>\n",
       "<table border=\"1\" class=\"dataframe\">\n",
       "  <thead>\n",
       "    <tr style=\"text-align: right;\">\n",
       "      <th></th>\n",
       "      <th>released</th>\n",
       "      <th>year</th>\n",
       "      <th>age</th>\n",
       "      <th>sex</th>\n",
       "      <th>employed</th>\n",
       "      <th>citizen</th>\n",
       "      <th>checks</th>\n",
       "    </tr>\n",
       "  </thead>\n",
       "  <tbody>\n",
       "    <tr>\n",
       "      <th>5</th>\n",
       "      <td>Yes</td>\n",
       "      <td>1999</td>\n",
       "      <td>27</td>\n",
       "      <td>Female</td>\n",
       "      <td>Yes</td>\n",
       "      <td>Yes</td>\n",
       "      <td>1</td>\n",
       "    </tr>\n",
       "    <tr>\n",
       "      <th>6</th>\n",
       "      <td>Yes</td>\n",
       "      <td>1998</td>\n",
       "      <td>16</td>\n",
       "      <td>Female</td>\n",
       "      <td>Yes</td>\n",
       "      <td>Yes</td>\n",
       "      <td>0</td>\n",
       "    </tr>\n",
       "    <tr>\n",
       "      <th>8</th>\n",
       "      <td>Yes</td>\n",
       "      <td>1998</td>\n",
       "      <td>34</td>\n",
       "      <td>Female</td>\n",
       "      <td>Yes</td>\n",
       "      <td>Yes</td>\n",
       "      <td>1</td>\n",
       "    </tr>\n",
       "    <tr>\n",
       "      <th>19</th>\n",
       "      <td>Yes</td>\n",
       "      <td>2001</td>\n",
       "      <td>32</td>\n",
       "      <td>Female</td>\n",
       "      <td>No</td>\n",
       "      <td>Yes</td>\n",
       "      <td>3</td>\n",
       "    </tr>\n",
       "    <tr>\n",
       "      <th>24</th>\n",
       "      <td>No</td>\n",
       "      <td>2000</td>\n",
       "      <td>27</td>\n",
       "      <td>Female</td>\n",
       "      <td>No</td>\n",
       "      <td>Yes</td>\n",
       "      <td>3</td>\n",
       "    </tr>\n",
       "  </tbody>\n",
       "</table>\n",
       "</div>"
      ],
      "text/plain": [
       "   released  year  age     sex employed citizen  checks\n",
       "5       Yes  1999   27  Female      Yes     Yes       1\n",
       "6       Yes  1998   16  Female      Yes     Yes       0\n",
       "8       Yes  1998   34  Female      Yes     Yes       1\n",
       "19      Yes  2001   32  Female       No     Yes       3\n",
       "24       No  2000   27  Female       No     Yes       3"
      ]
     },
     "execution_count": 6,
     "metadata": {},
     "output_type": "execute_result"
    }
   ],
   "source": [
    "# Age Values\n",
    "df_male = data[data['sex'] == 'Male']\n",
    "df_female = data[data['sex'] == 'Female']\n",
    "df_female.head()"
   ]
  },
  {
   "cell_type": "markdown",
   "metadata": {},
   "source": [
    "#### We already know the dataset contains more arrested males than females, but is the age distribution unique to each gender?"
   ]
  },
  {
   "cell_type": "code",
   "execution_count": 7,
   "metadata": {},
   "outputs": [
    {
     "data": {
      "text/plain": [
       "Text(0.5, 0, 'Gender')"
      ]
     },
     "execution_count": 7,
     "metadata": {},
     "output_type": "execute_result"
    },
    {
     "data": {
      "image/png": "[encoded data removed]",
      "text/plain": [
       "<Figure size 1728x1152 with 1 Axes>"
      ]
     },
     "metadata": {
      "needs_background": "light"
     },
     "output_type": "display_data"
    }
   ],
   "source": [
    "# Bad Plot/s\n",
    "fig3 = plt.figure(figsize=(24,16))\n",
    "# Attempt 1: Scatter Plot\n",
    "ax6 = fig3.add_subplot(231)\n",
    "ax6.scatter(list(data['sex']), list(data['age']))\n",
    "ax6.set_title('Male age to Female age - Scatterplot', fontsize=22)\n",
    "ax6.set_ylabel(\"Age\",fontsize=15)\n",
    "ax6.set_xlabel(\"Gender\",fontsize=15)"
   ]
  },
  {
   "cell_type": "markdown",
   "metadata": {},
   "source": [
    "#### Perfect Right?\n",
    "\n",
    "Lets try again"
   ]
  },
  {
   "cell_type": "code",
   "execution_count": 8,
   "metadata": {},
   "outputs": [
    {
     "data": {
      "text/plain": [
       "Text(0.5, 1.0, 'Age of Male Arrests')"
      ]
     },
     "execution_count": 8,
     "metadata": {},
     "output_type": "execute_result"
    },
    {
     "data": {
      "image/png": "[encoded data removed]",
      "text/plain": [
       "<Figure size 1728x1152 with 3 Axes>"
      ]
     },
     "metadata": {
      "needs_background": "light"
     },
     "output_type": "display_data"
    }
   ],
   "source": [
    "# Good-ish\n",
    "fig4 = plt.figure(figsize=(24,16))\n",
    "# Attempt 1: Boxplot\n",
    "ax7 = fig4.add_subplot(231)\n",
    "ax7.boxplot([list(df_female['age']), list(df_male['age'])], labels=['Female', 'Male'])\n",
    "ax7.set_title('Male age to Female age - Boxplot', fontsize=20)\n",
    "\n",
    "# Attempt 2: 2 x Histograms\n",
    "ax8 = fig4.add_subplot(232)\n",
    "ax8.hist(df_female.age.values)\n",
    "ax8.set_ylabel(\"Frequency\",fontsize=15)\n",
    "ax8.set_xlabel(\"Age\",fontsize=15)\n",
    "ax8.set_title('Age of Female Arrests', fontsize=20)\n",
    "ax9 = fig4.add_subplot(233)\n",
    "ax9.hist(df_male.age.values)\n",
    "ax9.set_ylabel(\"Frequency\",fontsize=15)\n",
    "ax9.set_xlabel(\"Age\",fontsize=15)\n",
    "ax9.set_title('Age of Male Arrests', fontsize=20)\n"
   ]
  },
  {
   "cell_type": "markdown",
   "metadata": {},
   "source": [
    "### 3. Multi-line Graphing"
   ]
  },
  {
   "cell_type": "markdown",
   "metadata": {},
   "source": [
    "Police are curious, what was the average age for arrests over the years in the dataset? Was there a difference between the male average age and female average age each year?"
   ]
  },
  {
   "cell_type": "code",
   "execution_count": 9,
   "metadata": {},
   "outputs": [
    {
     "name": "stdout",
     "output_type": "stream",
     "text": [
      "Male average age {1997: 24.09, 1998: 23.64, 1999: 24.28, 2000: 23.62, 2001: 23.97, 2002: 23.41}\n",
      "\n",
      "Female average age {1997: 22.06, 1998: 24.0, 1999: 23.77, 2000: 21.85, 2001: 25.37, 2002: 22.72}\n"
     ]
    }
   ],
   "source": [
    "# Data collation\n",
    "male_year_arrests = {}\n",
    "female_year_arrests = {}\n",
    "years = sorted(data.year.unique())\n",
    "for yr in years:\n",
    "    # finds the mean of the age of the records that are (Male | Female) and were arrested in the year specified in the for loop, rounding to 2dp\n",
    "    male_year_arrests[yr] = np.round(np.mean((data[(data['sex'] == 'Male') & (data['year'] == yr)]).age), 2)\n",
    "    female_year_arrests[yr] = np.round(np.mean((data[(data['sex'] == 'Female') & (data['year'] == yr)]).age), 2)\n",
    "\n",
    "print(\"Male average age\", male_year_arrests)\n",
    "print(\"\")\n",
    "print(\"Female average age\", female_year_arrests)"
   ]
  },
  {
   "cell_type": "markdown",
   "metadata": {},
   "source": [
    "We have our data, now it is time to plot ! After all our struggles before, here is an okay example. How else could we do this?"
   ]
  },
  {
   "cell_type": "code",
   "execution_count": 10,
   "metadata": {},
   "outputs": [
    {
     "data": {
      "text/plain": [
       "Text(0.5, 0, 'Year')"
      ]
     },
     "execution_count": 10,
     "metadata": {},
     "output_type": "execute_result"
    },
    {
     "data": {
      "image/png": "[encoded data removed]",
      "text/plain": [
       "<Figure size 1728x1152 with 1 Axes>"
      ]
     },
     "metadata": {
      "needs_background": "light"
     },
     "output_type": "display_data"
    }
   ],
   "source": [
    "#Scatter Plot\n",
    "fig5 = plt.figure(figsize=(24,16))\n",
    "ax10 = fig5.add_subplot(233)\n",
    "ax10.scatter(male_year_arrests.keys(), male_year_arrests.values(), s=100, c='orange')\n",
    "ax10.scatter(female_year_arrests.keys(), female_year_arrests.values(), s=100, c='purple')\n",
    "ax10.legend(['Male', 'Female'], loc=2)\n",
    "ax10.set_title('Average age for an arrest, Male vs Female', fontsize=22)\n",
    "ax10.set_ylabel(\"Age\",fontsize=15)\n",
    "ax10.set_xlabel(\"Year\",fontsize=15)"
   ]
  },
  {
   "cell_type": "markdown",
   "metadata": {},
   "source": [
    "<h2 align='center'>ML Regression - Vegas</h2>"
   ]
  },
  {
   "cell_type": "markdown",
   "metadata": {},
   "source": [
    "#### What happens in Vegas doesn't stay in Vegas anymore.\n",
    "\n",
    "The COMP2420 teaching staff are organising a group trip to Las Vegas during the mid semester break to escape the cold. Harry has been exploring options for places to stay, but is unsure on how trustworthy Trip Advisor is. The tutors are interested in how users might come to the decision on their scores, and how their past review experience and helpfulness can impact the final score."
   ]
  },
  {
   "cell_type": "code",
   "execution_count": 11,
   "metadata": {},
   "outputs": [
    {
     "data": {
      "text/html": [
       "<div>\n",
       "<style scoped>\n",
       "    .dataframe tbody tr th:only-of-type {\n",
       "        vertical-align: middle;\n",
       "    }\n",
       "\n",
       "    .dataframe tbody tr th {\n",
       "        vertical-align: top;\n",
       "    }\n",
       "\n",
       "    .dataframe thead th {\n",
       "        text-align: right;\n",
       "    }\n",
       "</style>\n",
       "<table border=\"1\" class=\"dataframe\">\n",
       "  <thead>\n",
       "    <tr style=\"text-align: right;\">\n",
       "      <th></th>\n",
       "      <th>User country</th>\n",
       "      <th>Nr. reviews</th>\n",
       "      <th>Nr. hotel reviews</th>\n",
       "      <th>Helpful votes</th>\n",
       "      <th>Score</th>\n",
       "      <th>Period of stay</th>\n",
       "      <th>Traveler type</th>\n",
       "      <th>Pool</th>\n",
       "      <th>Gym</th>\n",
       "      <th>Tennis court</th>\n",
       "      <th>Spa</th>\n",
       "      <th>Casino</th>\n",
       "      <th>Free internet</th>\n",
       "      <th>Hotel name</th>\n",
       "      <th>Hotel stars</th>\n",
       "      <th>Nr. rooms</th>\n",
       "      <th>User continent</th>\n",
       "      <th>Member years</th>\n",
       "      <th>Review month</th>\n",
       "      <th>Review weekday</th>\n",
       "    </tr>\n",
       "  </thead>\n",
       "  <tbody>\n",
       "    <tr>\n",
       "      <th>0</th>\n",
       "      <td>USA</td>\n",
       "      <td>11</td>\n",
       "      <td>4</td>\n",
       "      <td>13</td>\n",
       "      <td>5</td>\n",
       "      <td>Dec-Feb</td>\n",
       "      <td>Friends</td>\n",
       "      <td>NO</td>\n",
       "      <td>YES</td>\n",
       "      <td>NO</td>\n",
       "      <td>NO</td>\n",
       "      <td>YES</td>\n",
       "      <td>YES</td>\n",
       "      <td>Circus Circus Hotel &amp; Casino Las Vegas</td>\n",
       "      <td>3</td>\n",
       "      <td>3773</td>\n",
       "      <td>North America</td>\n",
       "      <td>9</td>\n",
       "      <td>January</td>\n",
       "      <td>Thursday</td>\n",
       "    </tr>\n",
       "    <tr>\n",
       "      <th>1</th>\n",
       "      <td>USA</td>\n",
       "      <td>119</td>\n",
       "      <td>21</td>\n",
       "      <td>75</td>\n",
       "      <td>3</td>\n",
       "      <td>Dec-Feb</td>\n",
       "      <td>Business</td>\n",
       "      <td>NO</td>\n",
       "      <td>YES</td>\n",
       "      <td>NO</td>\n",
       "      <td>NO</td>\n",
       "      <td>YES</td>\n",
       "      <td>YES</td>\n",
       "      <td>Circus Circus Hotel &amp; Casino Las Vegas</td>\n",
       "      <td>3</td>\n",
       "      <td>3773</td>\n",
       "      <td>North America</td>\n",
       "      <td>3</td>\n",
       "      <td>January</td>\n",
       "      <td>Friday</td>\n",
       "    </tr>\n",
       "    <tr>\n",
       "      <th>2</th>\n",
       "      <td>USA</td>\n",
       "      <td>36</td>\n",
       "      <td>9</td>\n",
       "      <td>25</td>\n",
       "      <td>5</td>\n",
       "      <td>Mar-May</td>\n",
       "      <td>Families</td>\n",
       "      <td>NO</td>\n",
       "      <td>YES</td>\n",
       "      <td>NO</td>\n",
       "      <td>NO</td>\n",
       "      <td>YES</td>\n",
       "      <td>YES</td>\n",
       "      <td>Circus Circus Hotel &amp; Casino Las Vegas</td>\n",
       "      <td>3</td>\n",
       "      <td>3773</td>\n",
       "      <td>North America</td>\n",
       "      <td>2</td>\n",
       "      <td>February</td>\n",
       "      <td>Saturday</td>\n",
       "    </tr>\n",
       "    <tr>\n",
       "      <th>3</th>\n",
       "      <td>UK</td>\n",
       "      <td>14</td>\n",
       "      <td>7</td>\n",
       "      <td>14</td>\n",
       "      <td>4</td>\n",
       "      <td>Mar-May</td>\n",
       "      <td>Friends</td>\n",
       "      <td>NO</td>\n",
       "      <td>YES</td>\n",
       "      <td>NO</td>\n",
       "      <td>NO</td>\n",
       "      <td>YES</td>\n",
       "      <td>YES</td>\n",
       "      <td>Circus Circus Hotel &amp; Casino Las Vegas</td>\n",
       "      <td>3</td>\n",
       "      <td>3773</td>\n",
       "      <td>Europe</td>\n",
       "      <td>6</td>\n",
       "      <td>February</td>\n",
       "      <td>Friday</td>\n",
       "    </tr>\n",
       "    <tr>\n",
       "      <th>4</th>\n",
       "      <td>Canada</td>\n",
       "      <td>5</td>\n",
       "      <td>5</td>\n",
       "      <td>2</td>\n",
       "      <td>4</td>\n",
       "      <td>Mar-May</td>\n",
       "      <td>Solo</td>\n",
       "      <td>NO</td>\n",
       "      <td>YES</td>\n",
       "      <td>NO</td>\n",
       "      <td>NO</td>\n",
       "      <td>YES</td>\n",
       "      <td>YES</td>\n",
       "      <td>Circus Circus Hotel &amp; Casino Las Vegas</td>\n",
       "      <td>3</td>\n",
       "      <td>3773</td>\n",
       "      <td>North America</td>\n",
       "      <td>7</td>\n",
       "      <td>March</td>\n",
       "      <td>Tuesday</td>\n",
       "    </tr>\n",
       "  </tbody>\n",
       "</table>\n",
       "</div>"
      ],
      "text/plain": [
       "  User country  Nr. reviews  Nr. hotel reviews  Helpful votes  Score  \\\n",
       "0          USA           11                  4             13      5   \n",
       "1          USA          119                 21             75      3   \n",
       "2          USA           36                  9             25      5   \n",
       "3           UK           14                  7             14      4   \n",
       "4       Canada            5                  5              2      4   \n",
       "\n",
       "  Period of stay Traveler type Pool  Gym Tennis court Spa Casino  \\\n",
       "0        Dec-Feb       Friends   NO  YES           NO  NO    YES   \n",
       "1        Dec-Feb      Business   NO  YES           NO  NO    YES   \n",
       "2        Mar-May      Families   NO  YES           NO  NO    YES   \n",
       "3        Mar-May       Friends   NO  YES           NO  NO    YES   \n",
       "4        Mar-May          Solo   NO  YES           NO  NO    YES   \n",
       "\n",
       "  Free internet                              Hotel name Hotel stars  \\\n",
       "0           YES  Circus Circus Hotel & Casino Las Vegas           3   \n",
       "1           YES  Circus Circus Hotel & Casino Las Vegas           3   \n",
       "2           YES  Circus Circus Hotel & Casino Las Vegas           3   \n",
       "3           YES  Circus Circus Hotel & Casino Las Vegas           3   \n",
       "4           YES  Circus Circus Hotel & Casino Las Vegas           3   \n",
       "\n",
       "   Nr. rooms User continent  Member years Review month Review weekday  \n",
       "0       3773  North America             9      January       Thursday  \n",
       "1       3773  North America             3      January         Friday  \n",
       "2       3773  North America             2     February       Saturday  \n",
       "3       3773         Europe             6     February         Friday  \n",
       "4       3773  North America             7        March        Tuesday  "
      ]
     },
     "execution_count": 11,
     "metadata": {},
     "output_type": "execute_result"
    }
   ],
   "source": [
    "# Importing Data\n",
    "vegas = pd.read_csv('data/trip_advisor.csv', sep=';')\n",
    "vegas['Hotel stars'] = vegas['Hotel stars'].str.replace(',','.')\n",
    "vegas.head()"
   ]
  },
  {
   "cell_type": "markdown",
   "metadata": {},
   "source": [
    "The **initial** hypothesis is as follows:\n",
    "\n",
    "- The score provided by a user is directly impacted by the Hotel Stars, Nr. reviews, Nr. hotel reviews, Helpful votes and Member years\n",
    "\n",
    "We can use linear regression to test this !"
   ]
  },
  {
   "cell_type": "code",
   "execution_count": 12,
   "metadata": {},
   "outputs": [],
   "source": [
    "# Linear regression object\n",
    "lm = LinearRegression()"
   ]
  },
  {
   "cell_type": "markdown",
   "metadata": {},
   "source": [
    "We can look at the input to the linear regression module in terms of **Features (x)** & **Output (y)**."
   ]
  },
  {
   "cell_type": "code",
   "execution_count": 13,
   "metadata": {},
   "outputs": [],
   "source": [
    "# Features\n",
    "\n",
    "x = vegas[['Hotel stars', 'Nr. reviews', 'Nr. hotel reviews', 'Helpful votes', 'Member years']]\n",
    "y = vegas.Score"
   ]
  },
  {
   "cell_type": "markdown",
   "metadata": {},
   "source": [
    "Once filtering our 'x' and 'y' values, we can plug it into the 'lm' object and see what happens"
   ]
  },
  {
   "cell_type": "code",
   "execution_count": 14,
   "metadata": {},
   "outputs": [
    {
     "name": "stdout",
     "output_type": "stream",
     "text": [
      "Coefficients: [ 0.25140057 -0.00116826  0.00215945  0.00102964 -0.0004802 ]\n",
      "Intercept: 3.070801624339195\n"
     ]
    }
   ],
   "source": [
    "lm.fit(x, y)\n",
    "print(\"Coefficients:\", lm.coef_)\n",
    "print(\"Intercept:\", lm.intercept_)"
   ]
  },
  {
   "cell_type": "markdown",
   "metadata": {},
   "source": [
    "We can see we have the Coefficients and Intercept, but we don't actually have a way to test our hypothesis since we have no testing data. Luckily, we can construct that from our training data. Lets try this again!"
   ]
  },
  {
   "cell_type": "code",
   "execution_count": 15,
   "metadata": {},
   "outputs": [
    {
     "name": "stdout",
     "output_type": "stream",
     "text": [
      "Accuracy (R^2):\n",
      "-3.699590033006121\n"
     ]
    }
   ],
   "source": [
    "# Round 2\n",
    "\n",
    "lm2 = LinearRegression()\n",
    "\n",
    "x_train, x_test, y_train, y_test = train_test_split(x, y, test_size=0.33, random_state=5)\n",
    "\n",
    "lm2.fit(x_train,y_train)\n",
    "\n",
    "# Accuracy\n",
    "print(\"Accuracy (R^2):\")\n",
    "print(lm2.score(x_test, y_test))"
   ]
  },
  {
   "cell_type": "markdown",
   "metadata": {},
   "source": [
    "#### Recall the R^2 specification (as per sklearn.linear_model.LinearRegression)\n",
    "The best possible score is 1.0 and it can be negative (because the model can be arbitrarily worse). A constant model that always predicts the expected value of y, disregarding the input features, would get a R^2 score of 0.0."
   ]
  },
  {
   "cell_type": "markdown",
   "metadata": {},
   "source": [
    "------------\n",
    "\n",
    "So, in short.. Our hypothesis is **very** wrong !\n",
    "\n",
    "How could we have done better?"
   ]
  }
 ],
 "metadata": {
  "kernelspec": {
   "display_name": "Python 3",
   "language": "python",
   "name": "python3"
  },
  "language_info": {
   "codemirror_mode": {
    "name": "ipython",
    "version": 3
   },
   "file_extension": ".py",
   "mimetype": "text/x-python",
   "name": "python",
   "nbconvert_exporter": "python",
   "pygments_lexer": "ipython3",
   "version": "3.7.1"
  }
 },
 "nbformat": 4,
 "nbformat_minor": 2
}
