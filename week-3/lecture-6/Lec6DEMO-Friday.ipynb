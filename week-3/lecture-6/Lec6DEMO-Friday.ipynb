{
 "cells": [
  {
   "cell_type": "markdown",
   "metadata": {},
   "source": [
    " <h1 align='center'> COMP2420/COMP6420 - Introduction to Data Management, Analysis and Security</h1>\n",
    "\n",
    "<h2 align='center'>Lecture 6 - Demo Example</h2>"
   ]
  },
  {
   "cell_type": "code",
   "execution_count": 1,
   "metadata": {},
   "outputs": [],
   "source": [
    "# Author in R - Jin \n",
    "# Date - 13 Mar 2019\n",
    "# Python Conversion - Alex"
   ]
  },
  {
   "cell_type": "code",
   "execution_count": 10,
   "metadata": {},
   "outputs": [],
   "source": [
    "import pandas as pd\n",
    "import numpy as np\n",
    "import statistics as stats\n",
    "from scipy import stats as spystats\n",
    "import matplotlib as plt\n",
    "import statsmodels as sm\n",
    "%matplotlib inline\n"
   ]
  },
  {
   "cell_type": "markdown",
   "metadata": {},
   "source": [
    "# Demos"
   ]
  },
  {
   "cell_type": "markdown",
   "metadata": {},
   "source": [
    "## iPhone Information"
   ]
  },
  {
   "cell_type": "code",
   "execution_count": 12,
   "metadata": {},
   "outputs": [
    {
     "name": "stdout",
     "output_type": "stream",
     "text": [
      "{'iPhone 6': 30, 'iPhone 6 Plus': 36, 'iPhone 7 Plus': 25, 'iPhone 8': 22}\n",
      "X-Squared:  3.9911504424778763\n",
      "p-value:  0.26242130924778195\n"
     ]
    }
   ],
   "source": [
    "# Data sets\n",
    "phones = {'iPhone 6': 30, 'iPhone 6 Plus': 36, 'iPhone 7 Plus': 25, 'iPhone 8': 22}\n",
    "\n",
    "#Function\n",
    "chi_Results = spystats.chisquare(list(phones.values()))\n",
    "#Note, scipy.stats.chisquare will assume that if no expected values are given, it is a uniform distribution\n",
    "\n",
    "# Result Outputs\n",
    "print(phones)\n",
    "print(\"X-Squared: \", chi_Results[0])\n",
    "print(\"p-value: \", chi_Results[1])\n"
   ]
  },
  {
   "cell_type": "markdown",
   "metadata": {},
   "source": [
    "## Seat Belt Usage"
   ]
  },
  {
   "cell_type": "code",
   "execution_count": 16,
   "metadata": {},
   "outputs": [
    {
     "name": "stdout",
     "output_type": "stream",
     "text": [
      "X-Squared:  35.99532172932631\n",
      "p-value:  1.977918426737345e-09\n"
     ]
    },
    {
     "data": {
      "text/html": [
       "<div>\n",
       "<style scoped>\n",
       "    .dataframe tbody tr th:only-of-type {\n",
       "        vertical-align: middle;\n",
       "    }\n",
       "\n",
       "    .dataframe tbody tr th {\n",
       "        vertical-align: top;\n",
       "    }\n",
       "\n",
       "    .dataframe thead th {\n",
       "        text-align: right;\n",
       "    }\n",
       "</style>\n",
       "<table border=\"1\" class=\"dataframe\">\n",
       "  <thead>\n",
       "    <tr style=\"text-align: right;\">\n",
       "      <th></th>\n",
       "      <th>Child Buckled</th>\n",
       "      <th>Child Unbuckled</th>\n",
       "    </tr>\n",
       "  </thead>\n",
       "  <tbody>\n",
       "    <tr>\n",
       "      <th>Parent Buckled</th>\n",
       "      <td>56</td>\n",
       "      <td>8</td>\n",
       "    </tr>\n",
       "    <tr>\n",
       "      <th>Parent Unbuckled</th>\n",
       "      <td>2</td>\n",
       "      <td>16</td>\n",
       "    </tr>\n",
       "  </tbody>\n",
       "</table>\n",
       "</div>"
      ],
      "text/plain": [
       "                  Child Buckled  Child Unbuckled\n",
       "Parent Buckled               56                8\n",
       "Parent Unbuckled              2               16"
      ]
     },
     "execution_count": 16,
     "metadata": {},
     "output_type": "execute_result"
    }
   ],
   "source": [
    "# Data\n",
    "belt_df = pd.DataFrame(np.array([[56,8], [2,16]]), columns=['Child Buckled', 'Child Unbuckled'])\n",
    "belt_df.rename(index={0:\"Parent Buckled\", 1:\"Parent Unbuckled\"}, inplace=True) \n",
    "#This makes it so we can visually assess, doesn't help or hinder impact functionality. \n",
    "#You could also feed the function a 2D array for the same result.\n",
    "\n",
    "#Function\n",
    "belt_chi = spystats.chi2_contingency(belt_df)\n",
    "\n",
    "# Result Outputs\n",
    "print(\"X-Squared: \", belt_chi[0])\n",
    "print(\"p-value: \", belt_chi[1])\n",
    "belt_df.head()"
   ]
  },
  {
   "cell_type": "markdown",
   "metadata": {},
   "source": [
    "## ANOVA"
   ]
  },
  {
   "cell_type": "code",
   "execution_count": 20,
   "metadata": {},
   "outputs": [
    {
     "name": "stdout",
     "output_type": "stream",
     "text": [
      "F_onewayResult(statistic=5545.454545454573, pvalue=1.5939209282437678e-18)\n"
     ]
    }
   ],
   "source": [
    "# Data Sets\n",
    "Treat_1 = [15.1, 15.0, 14.9, 14.8, 15.2]\n",
    "Treat_2 = [20.1, 20.0, 20.0, 19.9, 20.0]\n",
    "Treat_3 = [24.0, 24.2, 24.1, 23.9, 23.8]\n",
    "Treat_Group = [Treat_1, Treat_2, Treat_3]\n",
    "\n",
    "ANOVA_result = 0\n",
    "ANOVA_result = spystats.f_oneway(Treat_1, Treat_2, Treat_3)\n",
    "print(ANOVA_result)\n",
    "# Simple results\n",
    "\n",
    "# Note: 2-way ANOVA testing and AOV tables are unfortunately not as easy in python as it is in R."
   ]
  },
  {
   "cell_type": "code",
   "execution_count": null,
   "metadata": {},
   "outputs": [],
   "source": []
  }
 ],
 "metadata": {
  "kernelspec": {
   "display_name": "Python 3",
   "language": "python",
   "name": "python3"
  },
  "language_info": {
   "codemirror_mode": {
    "name": "ipython",
    "version": 3
   },
   "file_extension": ".py",
   "mimetype": "text/x-python",
   "name": "python",
   "nbconvert_exporter": "python",
   "pygments_lexer": "ipython3",
   "version": "3.7.1"
  }
 },
 "nbformat": 4,
 "nbformat_minor": 2
}
