{
 "cells": [
  {
   "cell_type": "markdown",
   "metadata": {},
   "source": [
    " <h1 align='center'> COMP2420/COMP6420 - Introduction to Data Management, Analysis and Security</h1>\n",
    "\n",
    "<h2 align='center'>Lecture 6 - Practice Examples</h2>"
   ]
  },
  {
   "cell_type": "code",
   "execution_count": 2,
   "metadata": {},
   "outputs": [],
   "source": [
    "# Author in R - Jin \n",
    "# Date - 13 Mar 2019\n",
    "# Python Conversion - Alex"
   ]
  },
  {
   "cell_type": "code",
   "execution_count": 3,
   "metadata": {},
   "outputs": [],
   "source": [
    "import pandas as pd\n",
    "import numpy as np\n",
    "import statistics as stats\n",
    "from scipy import stats as spystats\n",
    "import matplotlib as plt\n",
    "%matplotlib inline"
   ]
  },
  {
   "cell_type": "markdown",
   "metadata": {},
   "source": [
    "# Practice Questions"
   ]
  },
  {
   "cell_type": "markdown",
   "metadata": {},
   "source": [
    "## Practice 1: Muffled Maydow"
   ]
  },
  {
   "cell_type": "markdown",
   "metadata": {},
   "source": [
    "As a large amount of stock traders work in New York City, it may be true that unreasonably good or bad weather there affects the performance of the stock market. The dataset **'maydow'** contains data for the Dow Jones Industrial Average (DJIA) and maximum temperatures in Central Park for May 2003."
   ]
  },
  {
   "cell_type": "code",
   "execution_count": 4,
   "metadata": {},
   "outputs": [
    {
     "data": {
      "text/html": [
       "<div>\n",
       "<style scoped>\n",
       "    .dataframe tbody tr th:only-of-type {\n",
       "        vertical-align: middle;\n",
       "    }\n",
       "\n",
       "    .dataframe tbody tr th {\n",
       "        vertical-align: top;\n",
       "    }\n",
       "\n",
       "    .dataframe thead th {\n",
       "        text-align: right;\n",
       "    }\n",
       "</style>\n",
       "<table border=\"1\" class=\"dataframe\">\n",
       "  <thead>\n",
       "    <tr style=\"text-align: right;\">\n",
       "      <th></th>\n",
       "      <th>Day</th>\n",
       "      <th>DJA</th>\n",
       "      <th>max.temp</th>\n",
       "    </tr>\n",
       "  </thead>\n",
       "  <tbody>\n",
       "    <tr>\n",
       "      <th>21</th>\n",
       "      <td>May-01-03</td>\n",
       "      <td>8454.25</td>\n",
       "      <td>72</td>\n",
       "    </tr>\n",
       "    <tr>\n",
       "      <th>20</th>\n",
       "      <td>May-02-03</td>\n",
       "      <td>8582.68</td>\n",
       "      <td>75</td>\n",
       "    </tr>\n",
       "    <tr>\n",
       "      <th>19</th>\n",
       "      <td>May-05-03</td>\n",
       "      <td>8531.57</td>\n",
       "      <td>59</td>\n",
       "    </tr>\n",
       "    <tr>\n",
       "      <th>18</th>\n",
       "      <td>May-06-03</td>\n",
       "      <td>8588.36</td>\n",
       "      <td>61</td>\n",
       "    </tr>\n",
       "    <tr>\n",
       "      <th>17</th>\n",
       "      <td>May-07-03</td>\n",
       "      <td>8560.63</td>\n",
       "      <td>79</td>\n",
       "    </tr>\n",
       "  </tbody>\n",
       "</table>\n",
       "</div>"
      ],
      "text/plain": [
       "          Day      DJA  max.temp\n",
       "21  May-01-03  8454.25        72\n",
       "20  May-02-03  8582.68        75\n",
       "19  May-05-03  8531.57        59\n",
       "18  May-06-03  8588.36        61\n",
       "17  May-07-03  8560.63        79"
      ]
     },
     "execution_count": 4,
     "metadata": {},
     "output_type": "execute_result"
    }
   ],
   "source": [
    "maydow_data = pd.read_csv('data/maydow.csv',index_col=0 )\n",
    "maydow_data.head()"
   ]
  },
  {
   "cell_type": "markdown",
   "metadata": {},
   "source": [
    "Your task is as follows:\n",
    "\n",
    "    - Make a scatterplot of the two variables (DJA and maximum temperature) and find the correlation\n",
    "    - Calculate R-square using Correlation\n",
    "    - Is there any relationship between DJA and temperature?"
   ]
  },
  {
   "cell_type": "code",
   "execution_count": 5,
   "metadata": {},
   "outputs": [
    {
     "data": {
      "image/png": "[encoded data removed]",
      "text/plain": [
       "<Figure size 432x288 with 1 Axes>"
      ]
     },
     "metadata": {
      "needs_background": "light"
     },
     "output_type": "display_data"
    },
    {
     "name": "stdout",
     "output_type": "stream",
     "text": [
      "r-squared:  0.007442273466123133\n"
     ]
    },
    {
     "data": {
      "image/png": "[encoded data removed]",
      "text/plain": [
       "<Figure size 432x288 with 1 Axes>"
      ]
     },
     "metadata": {
      "needs_background": "light"
     },
     "output_type": "display_data"
    },
    {
     "name": "stdout",
     "output_type": "stream",
     "text": [
      "R Square:  0.007442273466123133\n"
     ]
    }
   ],
   "source": [
    "# Your answer here\n",
    "plt.pyplot.scatter(maydow_data['DJA'], maydow_data['max.temp'])\n",
    "plt.pyplot.show()\n",
    "\n",
    "corrcoef = np.corrcoef(maydow_data['DJA'], maydow_data['max.temp'])\n",
    "DJA_corrc = corrcoef[0][1]\n",
    "rsq = DJA_corrc * DJA_corrc\n",
    "print(\"r-squared: \", rsq)\n",
    "\n",
    "\n",
    "\n",
    "\n",
    "\n",
    "\n",
    "\n",
    "\n",
    "\n",
    "\n",
    "\n",
    "\n",
    "\n",
    "\n",
    "\n",
    "\n",
    "\n",
    "\n",
    "\n",
    "\n",
    "###############\n",
    "# ANSWERS\n",
    "\n",
    "# Scatterplot\n",
    "plt.pyplot.scatter(maydow_data['DJA'], maydow_data['max.temp'])\n",
    "plt.pyplot.xlabel(\"DJA\")\n",
    "plt.pyplot.ylabel(\"max.temp\")\n",
    "plt.pyplot.title(\"Potential Correlation between DJA and Max Temp\")\n",
    "plt.pyplot.show()\n",
    "\n",
    "# Calculate R-square\n",
    "# Calculate Correlation, then square\n",
    "corrcoef = np.corrcoef(maydow_data['DJA'], maydow_data['max.temp'])\n",
    "DMP_correlation = corrcoef[0][1]\n",
    "rsq = DMP_correlation * DMP_correlation\n",
    "print(\"R Square: \", rsq)"
   ]
  },
  {
   "cell_type": "markdown",
   "metadata": {},
   "source": [
    "## Practice 2: Baffling Batting"
   ]
  },
  {
   "cell_type": "markdown",
   "metadata": {},
   "source": [
    "The dataset **batting** contains baseball statistics for the 2002 major league baseball season. It is shown in the import below:"
   ]
  },
  {
   "cell_type": "code",
   "execution_count": 6,
   "metadata": {},
   "outputs": [
    {
     "data": {
      "text/html": [
       "<div>\n",
       "<style scoped>\n",
       "    .dataframe tbody tr th:only-of-type {\n",
       "        vertical-align: middle;\n",
       "    }\n",
       "\n",
       "    .dataframe tbody tr th {\n",
       "        vertical-align: top;\n",
       "    }\n",
       "\n",
       "    .dataframe thead th {\n",
       "        text-align: right;\n",
       "    }\n",
       "</style>\n",
       "<table border=\"1\" class=\"dataframe\">\n",
       "  <thead>\n",
       "    <tr style=\"text-align: right;\">\n",
       "      <th></th>\n",
       "      <th>playerID</th>\n",
       "      <th>year</th>\n",
       "      <th>stint</th>\n",
       "      <th>teamID</th>\n",
       "      <th>lgID</th>\n",
       "      <th>Games</th>\n",
       "      <th>All Bats</th>\n",
       "      <th>Runs</th>\n",
       "      <th>Hits</th>\n",
       "      <th>Doubles</th>\n",
       "      <th>...</th>\n",
       "      <th>Runs Batted In</th>\n",
       "      <th>Stolen Bases</th>\n",
       "      <th>Caught Stealing</th>\n",
       "      <th>Base on Balls</th>\n",
       "      <th>Strikeouts</th>\n",
       "      <th>Intentional Walks</th>\n",
       "      <th>Hit by Pitch</th>\n",
       "      <th>Sacrifice Hits</th>\n",
       "      <th>Sacrifice Flies</th>\n",
       "      <th>Grounded into Double Plays</th>\n",
       "    </tr>\n",
       "  </thead>\n",
       "  <tbody>\n",
       "    <tr>\n",
       "      <th>0</th>\n",
       "      <td>lunarfe01</td>\n",
       "      <td>2002</td>\n",
       "      <td>1</td>\n",
       "      <td>BAL</td>\n",
       "      <td>AL</td>\n",
       "      <td>2</td>\n",
       "      <td>0</td>\n",
       "      <td>0</td>\n",
       "      <td>0</td>\n",
       "      <td>0</td>\n",
       "      <td>...</td>\n",
       "      <td>0</td>\n",
       "      <td>0</td>\n",
       "      <td>0</td>\n",
       "      <td>0</td>\n",
       "      <td>0</td>\n",
       "      <td>0</td>\n",
       "      <td>0</td>\n",
       "      <td>0</td>\n",
       "      <td>0</td>\n",
       "      <td>0</td>\n",
       "    </tr>\n",
       "    <tr>\n",
       "      <th>1</th>\n",
       "      <td>filebo01</td>\n",
       "      <td>2002</td>\n",
       "      <td>1</td>\n",
       "      <td>TOR</td>\n",
       "      <td>AL</td>\n",
       "      <td>5</td>\n",
       "      <td>0</td>\n",
       "      <td>0</td>\n",
       "      <td>0</td>\n",
       "      <td>0</td>\n",
       "      <td>...</td>\n",
       "      <td>0</td>\n",
       "      <td>0</td>\n",
       "      <td>0</td>\n",
       "      <td>0</td>\n",
       "      <td>0</td>\n",
       "      <td>0</td>\n",
       "      <td>0</td>\n",
       "      <td>0</td>\n",
       "      <td>0</td>\n",
       "      <td>0</td>\n",
       "    </tr>\n",
       "    <tr>\n",
       "      <th>2</th>\n",
       "      <td>cocopa01</td>\n",
       "      <td>2002</td>\n",
       "      <td>1</td>\n",
       "      <td>TOR</td>\n",
       "      <td>AL</td>\n",
       "      <td>2</td>\n",
       "      <td>0</td>\n",
       "      <td>0</td>\n",
       "      <td>0</td>\n",
       "      <td>0</td>\n",
       "      <td>...</td>\n",
       "      <td>0</td>\n",
       "      <td>0</td>\n",
       "      <td>0</td>\n",
       "      <td>0</td>\n",
       "      <td>0</td>\n",
       "      <td>0</td>\n",
       "      <td>0</td>\n",
       "      <td>0</td>\n",
       "      <td>0</td>\n",
       "      <td>0</td>\n",
       "    </tr>\n",
       "    <tr>\n",
       "      <th>3</th>\n",
       "      <td>coopebr01</td>\n",
       "      <td>2002</td>\n",
       "      <td>1</td>\n",
       "      <td>TOR</td>\n",
       "      <td>AL</td>\n",
       "      <td>2</td>\n",
       "      <td>0</td>\n",
       "      <td>0</td>\n",
       "      <td>0</td>\n",
       "      <td>0</td>\n",
       "      <td>...</td>\n",
       "      <td>0</td>\n",
       "      <td>0</td>\n",
       "      <td>0</td>\n",
       "      <td>0</td>\n",
       "      <td>0</td>\n",
       "      <td>0</td>\n",
       "      <td>0</td>\n",
       "      <td>0</td>\n",
       "      <td>0</td>\n",
       "      <td>0</td>\n",
       "    </tr>\n",
       "    <tr>\n",
       "      <th>4</th>\n",
       "      <td>prokolu01</td>\n",
       "      <td>2002</td>\n",
       "      <td>1</td>\n",
       "      <td>TOR</td>\n",
       "      <td>AL</td>\n",
       "      <td>22</td>\n",
       "      <td>0</td>\n",
       "      <td>0</td>\n",
       "      <td>0</td>\n",
       "      <td>0</td>\n",
       "      <td>...</td>\n",
       "      <td>0</td>\n",
       "      <td>0</td>\n",
       "      <td>0</td>\n",
       "      <td>0</td>\n",
       "      <td>0</td>\n",
       "      <td>0</td>\n",
       "      <td>0</td>\n",
       "      <td>0</td>\n",
       "      <td>0</td>\n",
       "      <td>0</td>\n",
       "    </tr>\n",
       "  </tbody>\n",
       "</table>\n",
       "<p>5 rows × 22 columns</p>\n",
       "</div>"
      ],
      "text/plain": [
       "    playerID  year  stint teamID lgID  Games  All Bats  Runs  Hits  Doubles  \\\n",
       "0  lunarfe01  2002      1    BAL   AL      2         0     0     0        0   \n",
       "1   filebo01  2002      1    TOR   AL      5         0     0     0        0   \n",
       "2   cocopa01  2002      1    TOR   AL      2         0     0     0        0   \n",
       "3  coopebr01  2002      1    TOR   AL      2         0     0     0        0   \n",
       "4  prokolu01  2002      1    TOR   AL     22         0     0     0        0   \n",
       "\n",
       "              ...              Runs Batted In  Stolen Bases  Caught Stealing  \\\n",
       "0             ...                           0             0                0   \n",
       "1             ...                           0             0                0   \n",
       "2             ...                           0             0                0   \n",
       "3             ...                           0             0                0   \n",
       "4             ...                           0             0                0   \n",
       "\n",
       "   Base on Balls  Strikeouts  Intentional Walks  Hit by Pitch  Sacrifice Hits  \\\n",
       "0              0           0                  0             0               0   \n",
       "1              0           0                  0             0               0   \n",
       "2              0           0                  0             0               0   \n",
       "3              0           0                  0             0               0   \n",
       "4              0           0                  0             0               0   \n",
       "\n",
       "   Sacrifice Flies  Grounded into Double Plays  \n",
       "0                0                           0  \n",
       "1                0                           0  \n",
       "2                0                           0  \n",
       "3                0                           0  \n",
       "4                0                           0  \n",
       "\n",
       "[5 rows x 22 columns]"
      ]
     },
     "execution_count": 6,
     "metadata": {},
     "output_type": "execute_result"
    }
   ],
   "source": [
    "batting_data = pd.read_csv('data/Batting.csv', header=None)\n",
    "batting_data.columns = ['playerID', 'year', 'stint', 'teamID', 'lgID', 'Games', 'All Bats', 'Runs', 'Hits', 'Doubles', 'Triples', 'Homeruns', 'Runs Batted In', 'Stolen Bases', 'Caught Stealing', 'Base on Balls', 'Strikeouts', 'Intentional Walks', 'Hit by Pitch', 'Sacrifice Hits', 'Sacrifice Flies', 'Grounded into Double Plays']\n",
    "batting_data.head()"
   ]
  },
  {
   "cell_type": "markdown",
   "metadata": {},
   "source": [
    "Your task is as follows:\n",
    "\n",
    "    - What is the correlation between the number of strikeouts ('Strikeouts') and number of home runs ('Homeruns')?\n",
    "    - Does the data suggest that in order to hit a lot of home runs one should strike out a lot?\n",
    "    - Make a scatterplot to visually assess the trend."
   ]
  },
  {
   "cell_type": "code",
   "execution_count": 7,
   "metadata": {},
   "outputs": [
    {
     "name": "stdout",
     "output_type": "stream",
     "text": [
      "correlation coefficient X -> Y:  0.8397993162430928\n",
      "correlation coefficient Y -> X:  0.8397993162430928\n"
     ]
    },
    {
     "data": {
      "image/png": "[encoded data removed]",
      "text/plain": [
       "<Figure size 432x288 with 1 Axes>"
      ]
     },
     "metadata": {
      "needs_background": "light"
     },
     "output_type": "display_data"
    },
    {
     "name": "stdout",
     "output_type": "stream",
     "text": [
      "Correlations: \n",
      "X -> Y ::  0.8397993162430928\n",
      "Y -> X ::  0.8397993162430928\n",
      "\n"
     ]
    },
    {
     "data": {
      "image/png": "[encoded data removed]",
      "text/plain": [
       "<Figure size 432x288 with 1 Axes>"
      ]
     },
     "metadata": {
      "needs_background": "light"
     },
     "output_type": "display_data"
    }
   ],
   "source": [
    "# Your Answer Here\n",
    "\n",
    "corr = np.corrcoef(batting_data['Strikeouts'], batting_data['Homeruns'])\n",
    "corrcoefX = corr[0][1]\n",
    "corrcoefY = corr[1][0]\n",
    "\n",
    "print(\"correlation coefficient X -> Y: \", corrcoefX)\n",
    "\n",
    "print(\"correlation coefficient Y -> X: \", corrcoefY)\n",
    "\n",
    "#Yes it does\n",
    "\n",
    "plt.pyplot.scatter(batting_data['Strikeouts'], batting_data['Homeruns'], s=2)\n",
    "plt.pyplot.xlabel(\"Strikeouts\")\n",
    "plt.pyplot.ylabel(\"Homeruns\")\n",
    "plt.pyplot.title(\"Strikeouts vs Homeruns\")\n",
    "plt.pyplot.show()\n",
    "\n",
    "\n",
    "\n",
    "\n",
    "\n",
    "\n",
    "\n",
    "\n",
    "\n",
    "\n",
    "\n",
    "\n",
    "\n",
    "\n",
    "\n",
    "########\n",
    "# ANSWERS\n",
    "\n",
    "#Correlation - Through use of Correlation Matrix\n",
    "# np.corrcoef() will return a 2D matrix showing x-x, x-y, y-x, y-y. Closer to 1 indicates positive correlation, closer to -1 indicates negative correlation, 0 indicates no correlation\n",
    "corrcoef = np.corrcoef(batting_data['Strikeouts'], batting_data['Homeruns'])\n",
    "print(\"Correlations: \")\n",
    "print(\"X -> Y :: \", corrcoef[0][1])\n",
    "print(\"Y -> X :: \", corrcoef[1][0])\n",
    "\n",
    "print(\"\")\n",
    "\n",
    "# Scatterplot\n",
    "plt.pyplot.scatter(batting_data['Strikeouts'], batting_data['Homeruns'], s=2)\n",
    "plt.pyplot.xlabel(\"Strikeouts\")\n",
    "plt.pyplot.ylabel(\"Home runs\")\n",
    "plt.pyplot.title(\"Potential Correlation between Strikeouts and Homeruns\")\n",
    "plt.pyplot.show()"
   ]
  },
  {
   "cell_type": "markdown",
   "metadata": {},
   "source": [
    "## Practice 3: Willful Weightloss"
   ]
  },
  {
   "cell_type": "markdown",
   "metadata": {},
   "source": [
    "The dataset **wtloss** contains measurements of a patient's weight in kilograms during a weight-rehabilitation program. The import is shown below:"
   ]
  },
  {
   "cell_type": "code",
   "execution_count": 8,
   "metadata": {},
   "outputs": [
    {
     "data": {
      "text/html": [
       "<div>\n",
       "<style scoped>\n",
       "    .dataframe tbody tr th:only-of-type {\n",
       "        vertical-align: middle;\n",
       "    }\n",
       "\n",
       "    .dataframe tbody tr th {\n",
       "        vertical-align: top;\n",
       "    }\n",
       "\n",
       "    .dataframe thead th {\n",
       "        text-align: right;\n",
       "    }\n",
       "</style>\n",
       "<table border=\"1\" class=\"dataframe\">\n",
       "  <thead>\n",
       "    <tr style=\"text-align: right;\">\n",
       "      <th></th>\n",
       "      <th>Days</th>\n",
       "      <th>Weight</th>\n",
       "    </tr>\n",
       "  </thead>\n",
       "  <tbody>\n",
       "    <tr>\n",
       "      <th>1</th>\n",
       "      <td>0</td>\n",
       "      <td>184.35</td>\n",
       "    </tr>\n",
       "    <tr>\n",
       "      <th>2</th>\n",
       "      <td>4</td>\n",
       "      <td>182.51</td>\n",
       "    </tr>\n",
       "    <tr>\n",
       "      <th>3</th>\n",
       "      <td>7</td>\n",
       "      <td>180.45</td>\n",
       "    </tr>\n",
       "    <tr>\n",
       "      <th>4</th>\n",
       "      <td>7</td>\n",
       "      <td>179.91</td>\n",
       "    </tr>\n",
       "    <tr>\n",
       "      <th>5</th>\n",
       "      <td>11</td>\n",
       "      <td>177.91</td>\n",
       "    </tr>\n",
       "  </tbody>\n",
       "</table>\n",
       "</div>"
      ],
      "text/plain": [
       "   Days  Weight\n",
       "1     0  184.35\n",
       "2     4  182.51\n",
       "3     7  180.45\n",
       "4     7  179.91\n",
       "5    11  177.91"
      ]
     },
     "execution_count": 8,
     "metadata": {},
     "output_type": "execute_result"
    }
   ],
   "source": [
    "weightloss_data = pd.read_csv('data/wtloss.csv', index_col=0)\n",
    "weightloss_data.head()"
   ]
  },
  {
   "cell_type": "markdown",
   "metadata": {},
   "source": [
    "Your task is as follows:\n",
    "    \n",
    "    - Make a scatterplot showing how the variable Weight decays as a function of Days.\n",
    "    - What is the correlation of the two variables?\n",
    "    - Does the data appear appropiate for a regression model?"
   ]
  },
  {
   "cell_type": "code",
   "execution_count": 9,
   "metadata": {},
   "outputs": [
    {
     "data": {
      "image/png": "[encoded data removed]",
      "text/plain": [
       "<Figure size 432x288 with 1 Axes>"
      ]
     },
     "metadata": {
      "needs_background": "light"
     },
     "output_type": "display_data"
    },
    {
     "name": "stdout",
     "output_type": "stream",
     "text": [
      "X-Y:  -0.9853148635633334\n",
      "Y-X:  -0.9853148635633334\n",
      "Correlations: \n",
      "X -> Y ::  -0.9853148635633334\n",
      "Y -> X ::  -0.9853148635633334\n"
     ]
    },
    {
     "data": {
      "image/png": "[encoded data removed]",
      "text/plain": [
       "<Figure size 432x288 with 1 Axes>"
      ]
     },
     "metadata": {
      "needs_background": "light"
     },
     "output_type": "display_data"
    }
   ],
   "source": [
    "# Your Answer Here\n",
    "decay = weightloss_data['Weight'].sort_values(ascending = False)\n",
    "plt.pyplot.scatter(weightloss_data['Days'], decay, s=2)\n",
    "plt.pyplot.xlabel(\"Days\")\n",
    "plt.pyplot.ylabel(\"Decaying Weight\")\n",
    "plt.pyplot.title(\"Decaying weight over time\")\n",
    "plt.pyplot.show()\n",
    "\n",
    "corr = np.corrcoef(weightloss_data['Days'], weightloss_data['Weight'])\n",
    "corrcoefX = corr[0][1]\n",
    "corrcoefY = corr[1][0]\n",
    "\n",
    "print(\"X-Y: \", corrcoefX)\n",
    "print(\"Y-X: \", corrcoefY)\n",
    "\n",
    "\n",
    "\n",
    "\n",
    "#High negative correlation\n",
    "\n",
    "\n",
    "\n",
    "\n",
    "\n",
    "\n",
    "\n",
    "\n",
    "\n",
    "\n",
    "\n",
    "########\n",
    "# ANSWERS\n",
    "\n",
    "#Correlation - Through use of Correlation Matrix\n",
    "# np.corrcoef() will return a 2D matrix showing x-x, x-y, y-x, y-y. Closer to 1 indicates positive correlation, closer to -1 indicates negative correlation, 0 indicates no correlation\n",
    "corrcoef = np.corrcoef(weightloss_data['Days'], weightloss_data['Weight'])\n",
    "print(\"Correlations: \")\n",
    "print(\"X -> Y :: \", corrcoef[0][1])\n",
    "print(\"Y -> X :: \", corrcoef[1][0])\n",
    "# HIGH NEGATIVE CORRELATION\n",
    "\n",
    "# Scatterplot\n",
    "plt.pyplot.scatter(weightloss_data['Days'], weightloss_data['Weight'], s=2)\n",
    "plt.pyplot.xlabel(\"Days\")\n",
    "plt.pyplot.ylabel(\"Weight\")\n",
    "plt.pyplot.title(\"Days vs Weight\")\n",
    "plt.pyplot.show()"
   ]
  },
  {
   "cell_type": "markdown",
   "metadata": {},
   "source": [
    "## Practice 4: Grand Galton"
   ]
  },
  {
   "cell_type": "markdown",
   "metadata": {},
   "source": [
    "The **galton** dataset contains data collected by Francis Galton in 1885. Each data point contains a child's height and an average of his or her parents' heights."
   ]
  },
  {
   "cell_type": "code",
   "execution_count": 10,
   "metadata": {},
   "outputs": [
    {
     "data": {
      "text/html": [
       "<div>\n",
       "<style scoped>\n",
       "    .dataframe tbody tr th:only-of-type {\n",
       "        vertical-align: middle;\n",
       "    }\n",
       "\n",
       "    .dataframe tbody tr th {\n",
       "        vertical-align: top;\n",
       "    }\n",
       "\n",
       "    .dataframe thead th {\n",
       "        text-align: right;\n",
       "    }\n",
       "</style>\n",
       "<table border=\"1\" class=\"dataframe\">\n",
       "  <thead>\n",
       "    <tr style=\"text-align: right;\">\n",
       "      <th></th>\n",
       "      <th>parent</th>\n",
       "      <th>child</th>\n",
       "    </tr>\n",
       "  </thead>\n",
       "  <tbody>\n",
       "    <tr>\n",
       "      <th>1</th>\n",
       "      <td>70.5</td>\n",
       "      <td>61.7</td>\n",
       "    </tr>\n",
       "    <tr>\n",
       "      <th>2</th>\n",
       "      <td>68.5</td>\n",
       "      <td>61.7</td>\n",
       "    </tr>\n",
       "    <tr>\n",
       "      <th>3</th>\n",
       "      <td>65.5</td>\n",
       "      <td>61.7</td>\n",
       "    </tr>\n",
       "    <tr>\n",
       "      <th>4</th>\n",
       "      <td>64.5</td>\n",
       "      <td>61.7</td>\n",
       "    </tr>\n",
       "    <tr>\n",
       "      <th>5</th>\n",
       "      <td>64.0</td>\n",
       "      <td>61.7</td>\n",
       "    </tr>\n",
       "  </tbody>\n",
       "</table>\n",
       "</div>"
      ],
      "text/plain": [
       "   parent  child\n",
       "1    70.5   61.7\n",
       "2    68.5   61.7\n",
       "3    65.5   61.7\n",
       "4    64.5   61.7\n",
       "5    64.0   61.7"
      ]
     },
     "execution_count": 10,
     "metadata": {},
     "output_type": "execute_result"
    }
   ],
   "source": [
    "galton_data = pd.read_csv('data/galton.csv', index_col=0)\n",
    "galton_data.head()"
   ]
  },
  {
   "cell_type": "markdown",
   "metadata": {},
   "source": [
    "Your task is as follows:\n",
    "    \n",
    "    - Do a T-test to see if there is a difference in the mean height. (Assume the paired T-test is appropiate)\n",
    "    - What problem is there with the above assumption?"
   ]
  },
  {
   "cell_type": "code",
   "execution_count": 14,
   "metadata": {},
   "outputs": [
    {
     "name": "stdout",
     "output_type": "stream",
     "text": [
      "paired t-test:  2.878928693796602\n",
      "p-value:  0.004082049799602609\n",
      "Unpaired Test Results:  Ttest_indResult(statistic=2.167665371332533, pvalue=0.030311049956448916)\n",
      "Paired Test Results:  Ttest_relResult(statistic=2.878928693796602, pvalue=0.004082049799602609)\n"
     ]
    }
   ],
   "source": [
    "# Your answer here\n",
    "\n",
    "t_paired = spystats.ttest_rel(galton_data['parent'], galton_data['child'])\n",
    "print(\"paired t-test: \", t_paired[0])\n",
    "print(\"p-value: \", t_paired[1])\n",
    "\n",
    "\n",
    "\n",
    "\n",
    "\n",
    "\n",
    "\n",
    "\n",
    "\n",
    "\n",
    "\n",
    "\n",
    "\n",
    "\n",
    "\n",
    "\n",
    "######\n",
    "# Answers\n",
    "\n",
    "#Un-Paired\n",
    "t_unpair = spystats.ttest_ind(galton_data['parent'], galton_data['child'])\n",
    "print(\"Unpaired Test Results: \", t_unpair)\n",
    "\n",
    "# Paired\n",
    "t_paired = spystats.ttest_rel(galton_data['parent'], galton_data['child'])\n",
    "print(\"Paired Test Results: \", t_paired)"
   ]
  },
  {
   "cell_type": "markdown",
   "metadata": {},
   "source": [
    "## Practice 5: Coloured Candies"
   ]
  },
  {
   "cell_type": "markdown",
   "metadata": {},
   "source": [
    "A large bag of M&Ms candies is filled from batches that contain a specified percentage of each of six colors. These percentages are given in the **'mandms'** dataset."
   ]
  },
  {
   "cell_type": "code",
   "execution_count": 12,
   "metadata": {},
   "outputs": [
    {
     "data": {
      "text/html": [
       "<div>\n",
       "<style scoped>\n",
       "    .dataframe tbody tr th:only-of-type {\n",
       "        vertical-align: middle;\n",
       "    }\n",
       "\n",
       "    .dataframe tbody tr th {\n",
       "        vertical-align: top;\n",
       "    }\n",
       "\n",
       "    .dataframe thead th {\n",
       "        text-align: right;\n",
       "    }\n",
       "</style>\n",
       "<table border=\"1\" class=\"dataframe\">\n",
       "  <thead>\n",
       "    <tr style=\"text-align: right;\">\n",
       "      <th></th>\n",
       "      <th>Type</th>\n",
       "      <th>Blue</th>\n",
       "      <th>Brown</th>\n",
       "      <th>Green</th>\n",
       "      <th>Orange</th>\n",
       "      <th>Red</th>\n",
       "      <th>Yellow</th>\n",
       "    </tr>\n",
       "  </thead>\n",
       "  <tbody>\n",
       "    <tr>\n",
       "      <th>0</th>\n",
       "      <td>milk chocolate</td>\n",
       "      <td>10.0000</td>\n",
       "      <td>30.0000</td>\n",
       "      <td>10.0000</td>\n",
       "      <td>10.0000</td>\n",
       "      <td>20.0000</td>\n",
       "      <td>20.0000</td>\n",
       "    </tr>\n",
       "    <tr>\n",
       "      <th>1</th>\n",
       "      <td>Peanut</td>\n",
       "      <td>20.0000</td>\n",
       "      <td>20.0000</td>\n",
       "      <td>10.0000</td>\n",
       "      <td>10.0000</td>\n",
       "      <td>20.0000</td>\n",
       "      <td>20.0000</td>\n",
       "    </tr>\n",
       "    <tr>\n",
       "      <th>2</th>\n",
       "      <td>Peanut Butter</td>\n",
       "      <td>20.0000</td>\n",
       "      <td>20.0000</td>\n",
       "      <td>20.0000</td>\n",
       "      <td>0.0000</td>\n",
       "      <td>20.0000</td>\n",
       "      <td>20.0000</td>\n",
       "    </tr>\n",
       "    <tr>\n",
       "      <th>3</th>\n",
       "      <td>Almond</td>\n",
       "      <td>16.6667</td>\n",
       "      <td>16.6667</td>\n",
       "      <td>16.6667</td>\n",
       "      <td>16.6667</td>\n",
       "      <td>16.6667</td>\n",
       "      <td>16.6667</td>\n",
       "    </tr>\n",
       "    <tr>\n",
       "      <th>4</th>\n",
       "      <td>kid minis</td>\n",
       "      <td>16.6667</td>\n",
       "      <td>16.6667</td>\n",
       "      <td>16.6667</td>\n",
       "      <td>16.6667</td>\n",
       "      <td>16.6667</td>\n",
       "      <td>16.6667</td>\n",
       "    </tr>\n",
       "  </tbody>\n",
       "</table>\n",
       "</div>"
      ],
      "text/plain": [
       "             Type     Blue    Brown    Green   Orange      Red   Yellow\n",
       "0  milk chocolate  10.0000  30.0000  10.0000  10.0000  20.0000  20.0000\n",
       "1          Peanut  20.0000  20.0000  10.0000  10.0000  20.0000  20.0000\n",
       "2   Peanut Butter  20.0000  20.0000  20.0000   0.0000  20.0000  20.0000\n",
       "3          Almond  16.6667  16.6667  16.6667  16.6667  16.6667  16.6667\n",
       "4       kid minis  16.6667  16.6667  16.6667  16.6667  16.6667  16.6667"
      ]
     },
     "execution_count": 12,
     "metadata": {},
     "output_type": "execute_result"
    }
   ],
   "source": [
    "eminems = pd.read_csv('data/mandms.csv')\n",
    "eminems.columns = ['Type', 'Blue', 'Brown', 'Green', 'Orange', 'Red', 'Yellow']\n",
    "eminems.head()"
   ]
  },
  {
   "cell_type": "markdown",
   "metadata": {},
   "source": [
    " Assume a package of candies contains the following color distribution: 15 blue, 34 brown, 7 green, 19 orange, 29 red, and 24 yellow.\n",
    " \n",
    "Your task is as follows:\n",
    "\n",
    "    - Perform a chi-squared test with the null hypothesis that the candies are from a milk chocolate package. \n",
    "    - Repeat assuming the candies are from a Peanut package.\n",
    "    - Based on the p-values, which would you suspect is the true source of the candies?\n",
    " \n"
   ]
  },
  {
   "cell_type": "code",
   "execution_count": 18,
   "metadata": {},
   "outputs": [
    {
     "name": "stdout",
     "output_type": "stream",
     "text": [
      "chi squared for milk chocolate:  Power_divergenceResult(statistic=11.145897197354442, pvalue=0.04856278841269759)\n",
      "chi squared for peanut:  Power_divergenceResult(statistic=16.440014844413266, pvalue=0.005693897299514545)\n",
      "Milk Chocolate:  Power_divergenceResult(statistic=11.145897197354442, pvalue=0.04856278841269759)\n",
      "Peanut:  Power_divergenceResult(statistic=16.440014844413266, pvalue=0.005693897299514545)\n"
     ]
    }
   ],
   "source": [
    "Expected_outputs = [15,34,7,19,29,24]\n",
    "# Your Answer Here\n",
    "#H0: candies are from a milk chocolate package \n",
    "\n",
    "\n",
    "chi_res = spystats.chisquare(eminems.iloc[0][1:], Expected_outputs)\n",
    "\n",
    "print(\"chi squared for milk chocolate: \", chi_res)\n",
    "\n",
    "\n",
    "chip_res = spystats.chisquare(eminems.iloc[1][1:], Expected_outputs)\n",
    "\n",
    "print(\"chi squared for peanut: \", chip_res)\n",
    "\n",
    "\n",
    "\n",
    "\n",
    "\n",
    "\n",
    "\n",
    "\n",
    "\n",
    "\n",
    "\n",
    "#######\n",
    "# Answers\n",
    "\n",
    "# Milk Chocolate Chi-Squared - null hypothesis\n",
    "mlkchoc = eminems.iloc[0][1:]\n",
    "chi_result = spystats.chisquare(mlkchoc, Expected_outputs)\n",
    "print(\"Milk Chocolate: \", chi_result)\n",
    "# Peanut - null hypothesis\n",
    "peanut = eminems.iloc[1][1:]\n",
    "chip_result = spystats.chisquare(peanut, Expected_outputs)\n",
    "print(\"Peanut: \", chip_result)"
   ]
  },
  {
   "cell_type": "code",
   "execution_count": null,
   "metadata": {},
   "outputs": [],
   "source": []
  }
 ],
 "metadata": {
  "kernelspec": {
   "display_name": "Python 3",
   "language": "python",
   "name": "python3"
  },
  "language_info": {
   "codemirror_mode": {
    "name": "ipython",
    "version": 3
   },
   "file_extension": ".py",
   "mimetype": "text/x-python",
   "name": "python",
   "nbconvert_exporter": "python",
   "pygments_lexer": "ipython3",
   "version": "3.7.1"
  }
 },
 "nbformat": 4,
 "nbformat_minor": 2
}
