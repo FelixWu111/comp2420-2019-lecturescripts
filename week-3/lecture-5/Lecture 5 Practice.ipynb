{
 "cells": [
  {
   "cell_type": "markdown",
   "metadata": {},
   "source": [
    " <h1 align='center'> COMP2420/COMP6420 - Introduction to Data Management, Analysis and Security</h1>\n",
    "\n",
    "<h2 align='center'>Lecture 5 - Practice Examples</h2>"
   ]
  },
  {
   "cell_type": "code",
   "execution_count": null,
   "metadata": {},
   "outputs": [],
   "source": [
    "# Author in R - Jin \n",
    "# Date - 10 Mar 2019\n",
    "# Python Conversion - Alex"
   ]
  },
  {
   "cell_type": "code",
   "execution_count": 2,
   "metadata": {},
   "outputs": [],
   "source": [
    "import pandas as pd\n",
    "import numpy as np\n",
    "import statistics as stats\n",
    "from scipy import stats as spystats\n",
    "import matplotlib as plt\n",
    "%matplotlib inline"
   ]
  },
  {
   "cell_type": "markdown",
   "metadata": {},
   "source": [
    "# Practice Questions"
   ]
  },
  {
   "cell_type": "markdown",
   "metadata": {},
   "source": [
    "## Practice 1: Running Rivers"
   ]
  },
  {
   "cell_type": "markdown",
   "metadata": {},
   "source": [
    "The Dataset **rivers** contains the length (in miles) of 141 major rivers in North America. The data is imported below:"
   ]
  },
  {
   "cell_type": "code",
   "execution_count": 3,
   "metadata": {},
   "outputs": [
    {
     "data": {
      "text/html": [
       "<div>\n",
       "<style scoped>\n",
       "    .dataframe tbody tr th:only-of-type {\n",
       "        vertical-align: middle;\n",
       "    }\n",
       "\n",
       "    .dataframe tbody tr th {\n",
       "        vertical-align: top;\n",
       "    }\n",
       "\n",
       "    .dataframe thead th {\n",
       "        text-align: right;\n",
       "    }\n",
       "</style>\n",
       "<table border=\"1\" class=\"dataframe\">\n",
       "  <thead>\n",
       "    <tr style=\"text-align: right;\">\n",
       "      <th></th>\n",
       "      <th>Length</th>\n",
       "    </tr>\n",
       "  </thead>\n",
       "  <tbody>\n",
       "    <tr>\n",
       "      <th>1</th>\n",
       "      <td>735</td>\n",
       "    </tr>\n",
       "    <tr>\n",
       "      <th>2</th>\n",
       "      <td>320</td>\n",
       "    </tr>\n",
       "    <tr>\n",
       "      <th>3</th>\n",
       "      <td>325</td>\n",
       "    </tr>\n",
       "    <tr>\n",
       "      <th>4</th>\n",
       "      <td>392</td>\n",
       "    </tr>\n",
       "    <tr>\n",
       "      <th>5</th>\n",
       "      <td>524</td>\n",
       "    </tr>\n",
       "  </tbody>\n",
       "</table>\n",
       "</div>"
      ],
      "text/plain": [
       "   Length\n",
       "1     735\n",
       "2     320\n",
       "3     325\n",
       "4     392\n",
       "5     524"
      ]
     },
     "execution_count": 3,
     "metadata": {},
     "output_type": "execute_result"
    }
   ],
   "source": [
    "rivers_data = pd.read_csv(\"data/rivers.csv\", index_col=0)\n",
    "rivers_data.columns = [\"Length\"]\n",
    "rivers_data.head()"
   ]
  },
  {
   "cell_type": "markdown",
   "metadata": {},
   "source": [
    "Your task is as follows:\n",
    "\n",
    "    - Compare the mean, median and mode of the length of the rivers. Is there a big difference between the three?\n",
    "    - What are the 25th, 50th & 75th quantiles of the length of the rivers?\n",
    "    - What proportion are less than the mean length of the rivers?"
   ]
  },
  {
   "cell_type": "code",
   "execution_count": 4,
   "metadata": {},
   "outputs": [
    {
     "name": "stdout",
     "output_type": "stream",
     "text": [
      "Mean Length:  591.1843971631206\n",
      "Median Length:  425.0\n",
      "Mode Length:  [350]\n",
      "Quantiles [25%,50%, 75%]:  [310. 425. 680.]\n",
      "Total less than mean:  94\n",
      "Proportion:  0.6666666666666666\n"
     ]
    }
   ],
   "source": [
    "# Answers here\n",
    "\n",
    "\n",
    "########### ANSWERS\n",
    "river_lengths = rivers_data['Length']\n",
    "\n",
    "# Mean, Median, Mode\n",
    "print(\"Mean Length: \", np.mean(river_lengths))\n",
    "print(\"Median Length: \", np.median(river_lengths))\n",
    "print(\"Mode Length: \", spystats.mode(river_lengths)[0])\n",
    "\n",
    "#Quantiles\n",
    "print(\"Quantiles [25%,50%, 75%]: \", np.quantile(river_lengths, [0.25,0.5,0.75]))\n",
    "\n",
    "# Proportion less than mean length\n",
    "counter = 0\n",
    "river_mean = np.mean(river_lengths)\n",
    "\n",
    "for x in river_lengths:\n",
    "    if x < river_mean:\n",
    "        counter += 1\n",
    "\n",
    "print(\"Total less than mean: \", counter)\n",
    "print(\"Proportion: \", counter/len(river_lengths))"
   ]
  },
  {
   "cell_type": "markdown",
   "metadata": {},
   "source": [
    "## Practice 2: Math"
   ]
  },
  {
   "cell_type": "markdown",
   "metadata": {},
   "source": [
    "The dataset **Maths** contains a single column of numbers for you to work upon"
   ]
  },
  {
   "cell_type": "code",
   "execution_count": 5,
   "metadata": {},
   "outputs": [
    {
     "data": {
      "text/html": [
       "<div>\n",
       "<style scoped>\n",
       "    .dataframe tbody tr th:only-of-type {\n",
       "        vertical-align: middle;\n",
       "    }\n",
       "\n",
       "    .dataframe tbody tr th {\n",
       "        vertical-align: top;\n",
       "    }\n",
       "\n",
       "    .dataframe thead th {\n",
       "        text-align: right;\n",
       "    }\n",
       "</style>\n",
       "<table border=\"1\" class=\"dataframe\">\n",
       "  <thead>\n",
       "    <tr style=\"text-align: right;\">\n",
       "      <th></th>\n",
       "      <th>x</th>\n",
       "    </tr>\n",
       "  </thead>\n",
       "  <tbody>\n",
       "    <tr>\n",
       "      <th>1</th>\n",
       "      <td>44</td>\n",
       "    </tr>\n",
       "    <tr>\n",
       "      <th>2</th>\n",
       "      <td>49</td>\n",
       "    </tr>\n",
       "    <tr>\n",
       "      <th>3</th>\n",
       "      <td>62</td>\n",
       "    </tr>\n",
       "    <tr>\n",
       "      <th>4</th>\n",
       "      <td>45</td>\n",
       "    </tr>\n",
       "    <tr>\n",
       "      <th>5</th>\n",
       "      <td>51</td>\n",
       "    </tr>\n",
       "  </tbody>\n",
       "</table>\n",
       "</div>"
      ],
      "text/plain": [
       "    x\n",
       "1  44\n",
       "2  49\n",
       "3  62\n",
       "4  45\n",
       "5  51"
      ]
     },
     "execution_count": 5,
     "metadata": {},
     "output_type": "execute_result"
    }
   ],
   "source": [
    "maths_data = pd.read_csv(\"data/math.csv\", index_col=0)\n",
    "maths_data.head()"
   ]
  },
  {
   "cell_type": "markdown",
   "metadata": {},
   "source": [
    "Your task is as follows:\n",
    "\n",
    "    - Make a histogram and try to guess the mean, median and standard deviation.\n",
    "    - Check your guesses by running the appropiate python commands"
   ]
  },
  {
   "cell_type": "code",
   "execution_count": 6,
   "metadata": {},
   "outputs": [
    {
     "data": {
      "image/png": "[encoded data removed]",
      "text/plain": [
       "<Figure size 432x288 with 1 Axes>"
      ]
     },
     "metadata": {
      "needs_background": "light"
     },
     "output_type": "display_data"
    },
    {
     "name": "stdout",
     "output_type": "stream",
     "text": [
      "Mean:  54.9\n",
      "Median:  54.0\n",
      "Standard Deviation:  9.58244923458159\n"
     ]
    }
   ],
   "source": [
    "# Answers here\n",
    "\n",
    "\n",
    "########### ANSWERS\n",
    "\n",
    "# Histogram\n",
    "plt.pyplot.hist(maths_data['x'])\n",
    "plt.pyplot.show()\n",
    "\n",
    "# Mean, Median, Mode\n",
    "print(\"Mean: \", np.mean(maths_data['x']))\n",
    "print(\"Median: \", np.median(maths_data['x']))\n",
    "print(\"Standard Deviation: \", np.std(maths_data['x']))"
   ]
  },
  {
   "cell_type": "markdown",
   "metadata": {},
   "source": [
    "## Practice 3: Babyboom"
   ]
  },
  {
   "cell_type": "markdown",
   "metadata": {},
   "source": [
    "The dataset **'babyboom'** contains data on the births of 44 children in a one-day period at a Brisbane, Australia, hospital."
   ]
  },
  {
   "cell_type": "code",
   "execution_count": 7,
   "metadata": {},
   "outputs": [
    {
     "data": {
      "text/html": [
       "<div>\n",
       "<style scoped>\n",
       "    .dataframe tbody tr th:only-of-type {\n",
       "        vertical-align: middle;\n",
       "    }\n",
       "\n",
       "    .dataframe tbody tr th {\n",
       "        vertical-align: top;\n",
       "    }\n",
       "\n",
       "    .dataframe thead th {\n",
       "        text-align: right;\n",
       "    }\n",
       "</style>\n",
       "<table border=\"1\" class=\"dataframe\">\n",
       "  <thead>\n",
       "    <tr style=\"text-align: right;\">\n",
       "      <th></th>\n",
       "      <th>clock.time</th>\n",
       "      <th>gender</th>\n",
       "      <th>wt</th>\n",
       "      <th>running.time</th>\n",
       "    </tr>\n",
       "  </thead>\n",
       "  <tbody>\n",
       "    <tr>\n",
       "      <th>1</th>\n",
       "      <td>5</td>\n",
       "      <td>girl</td>\n",
       "      <td>3837</td>\n",
       "      <td>5</td>\n",
       "    </tr>\n",
       "    <tr>\n",
       "      <th>2</th>\n",
       "      <td>104</td>\n",
       "      <td>girl</td>\n",
       "      <td>3334</td>\n",
       "      <td>64</td>\n",
       "    </tr>\n",
       "    <tr>\n",
       "      <th>3</th>\n",
       "      <td>118</td>\n",
       "      <td>boy</td>\n",
       "      <td>3554</td>\n",
       "      <td>78</td>\n",
       "    </tr>\n",
       "    <tr>\n",
       "      <th>4</th>\n",
       "      <td>155</td>\n",
       "      <td>boy</td>\n",
       "      <td>3838</td>\n",
       "      <td>115</td>\n",
       "    </tr>\n",
       "    <tr>\n",
       "      <th>5</th>\n",
       "      <td>257</td>\n",
       "      <td>boy</td>\n",
       "      <td>3625</td>\n",
       "      <td>177</td>\n",
       "    </tr>\n",
       "  </tbody>\n",
       "</table>\n",
       "</div>"
      ],
      "text/plain": [
       "   clock.time gender    wt  running.time\n",
       "1           5   girl  3837             5\n",
       "2         104   girl  3334            64\n",
       "3         118    boy  3554            78\n",
       "4         155    boy  3838           115\n",
       "5         257    boy  3625           177"
      ]
     },
     "execution_count": 7,
     "metadata": {},
     "output_type": "execute_result"
    }
   ],
   "source": [
    "babybooming = pd.read_csv('data/babyboom.csv', index_col=0)\n",
    "babybooming.head()"
   ]
  },
  {
   "cell_type": "markdown",
   "metadata": {},
   "source": [
    "Your task is as follows:\n",
    "\n",
    "    - Make a histogram of the wt (Weight) variable.\n",
    "    - Is the data symmetric or skewed?"
   ]
  },
  {
   "cell_type": "code",
   "execution_count": 8,
   "metadata": {},
   "outputs": [
    {
     "data": {
      "image/png": "[encoded data removed]",
      "text/plain": [
       "<Figure size 432x288 with 1 Axes>"
      ]
     },
     "metadata": {
      "needs_background": "light"
     },
     "output_type": "display_data"
    }
   ],
   "source": [
    "# Answers here\n",
    "\n",
    "\n",
    "########### ANSWERS\n",
    "\n",
    "# Histogram\n",
    "plt.pyplot.hist(babybooming['wt'], density=True)\n",
    "plt.pyplot.show()"
   ]
  },
  {
   "cell_type": "markdown",
   "metadata": {},
   "source": [
    "## Practice 4: Executive Pay"
   ]
  },
  {
   "cell_type": "markdown",
   "metadata": {},
   "source": [
    "Sometimes a dataset is so skewed that it can help if we transform the data prior to looking at it. A common transformation for long-tailed data is to take the logarithm of the data. The **'exec.pay'** data is highly skewed."
   ]
  },
  {
   "cell_type": "code",
   "execution_count": 10,
   "metadata": {},
   "outputs": [
    {
     "data": {
      "text/html": [
       "<div>\n",
       "<style scoped>\n",
       "    .dataframe tbody tr th:only-of-type {\n",
       "        vertical-align: middle;\n",
       "    }\n",
       "\n",
       "    .dataframe tbody tr th {\n",
       "        vertical-align: top;\n",
       "    }\n",
       "\n",
       "    .dataframe thead th {\n",
       "        text-align: right;\n",
       "    }\n",
       "</style>\n",
       "<table border=\"1\" class=\"dataframe\">\n",
       "  <thead>\n",
       "    <tr style=\"text-align: right;\">\n",
       "      <th></th>\n",
       "      <th>x</th>\n",
       "    </tr>\n",
       "  </thead>\n",
       "  <tbody>\n",
       "    <tr>\n",
       "      <th>1</th>\n",
       "      <td>136</td>\n",
       "    </tr>\n",
       "    <tr>\n",
       "      <th>2</th>\n",
       "      <td>74</td>\n",
       "    </tr>\n",
       "    <tr>\n",
       "      <th>3</th>\n",
       "      <td>8</td>\n",
       "    </tr>\n",
       "    <tr>\n",
       "      <th>4</th>\n",
       "      <td>38</td>\n",
       "    </tr>\n",
       "    <tr>\n",
       "      <th>5</th>\n",
       "      <td>46</td>\n",
       "    </tr>\n",
       "  </tbody>\n",
       "</table>\n",
       "</div>"
      ],
      "text/plain": [
       "     x\n",
       "1  136\n",
       "2   74\n",
       "3    8\n",
       "4   38\n",
       "5   46"
      ]
     },
     "execution_count": 10,
     "metadata": {},
     "output_type": "execute_result"
    }
   ],
   "source": [
    "exec_pay = pd.read_csv('data/execpay.csv', index_col=0)\n",
    "exec_pay.head()"
   ]
  },
  {
   "cell_type": "markdown",
   "metadata": {},
   "source": [
    "Your task is as follows:\n",
    "\n",
    "    - Generate Histograms before making any adjustments and after taking a logarithmic transform.\n",
    "    - Which is better for showing the data and why?\n",
    "    - Find the median and mean for the transformed data\n",
    "    - How does it correspond to the untransformed mean and median?"
   ]
  },
  {
   "cell_type": "code",
   "execution_count": 11,
   "metadata": {},
   "outputs": [
    {
     "data": {
      "image/png": "[encoded data removed]",
      "text/plain": [
       "<Figure size 432x288 with 1 Axes>"
      ]
     },
     "metadata": {
      "needs_background": "light"
     },
     "output_type": "display_data"
    },
    {
     "data": {
      "image/png": "[encoded data removed]",
      "text/plain": [
       "<Figure size 432x288 with 1 Axes>"
      ]
     },
     "metadata": {
      "needs_background": "light"
     },
     "output_type": "display_data"
    },
    {
     "name": "stdout",
     "output_type": "stream",
     "text": [
      "Transformed Mean:  1.4389547478722942\n",
      "Transformed Median:  1.4471580313422192\n",
      "Regular Mean:  59.88944723618091\n",
      "Regular Median:  27.0\n"
     ]
    }
   ],
   "source": [
    "# Answers here\n",
    "\n",
    "\n",
    "########### ANSWERS\n",
    "\n",
    "# Histogram/s\n",
    "plt.pyplot.hist(exec_pay['x'])\n",
    "plt.pyplot.title(\"Original Data\")\n",
    "plt.pyplot.show()\n",
    "\n",
    "plt.pyplot.hist(np.log10(exec_pay['x']+1))\n",
    "plt.pyplot.title(\"Log transformation\")\n",
    "plt.pyplot.show()\n",
    "\n",
    "\n",
    "# Median & Mean - Transformed\n",
    "print(\"Transformed Mean: \", np.mean(np.log10(exec_pay['x']+1)))\n",
    "print(\"Transformed Median: \", np.median(np.log10(exec_pay['x']+1)))\n",
    "\n",
    "# Median & Mean - Normal\n",
    "print(\"Regular Mean: \", np.mean(exec_pay['x']))\n",
    "print(\"Regular Median: \", np.median(exec_pay['x']))"
   ]
  },
  {
   "cell_type": "code",
   "execution_count": null,
   "metadata": {},
   "outputs": [],
   "source": []
  },
  {
   "cell_type": "code",
   "execution_count": null,
   "metadata": {},
   "outputs": [],
   "source": []
  }
 ],
 "metadata": {
  "kernelspec": {
   "display_name": "Python 3",
   "language": "python",
   "name": "python3"
  },
  "language_info": {
   "codemirror_mode": {
    "name": "ipython",
    "version": 3
   },
   "file_extension": ".py",
   "mimetype": "text/x-python",
   "name": "python",
   "nbconvert_exporter": "python",
   "pygments_lexer": "ipython3",
   "version": "3.7.1"
  }
 },
 "nbformat": 4,
 "nbformat_minor": 2
}
